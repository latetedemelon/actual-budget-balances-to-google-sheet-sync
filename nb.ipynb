{
 "cells": [
  {
   "cell_type": "code",
   "execution_count": 1,
   "metadata": {},
   "outputs": [
    {
     "name": "stdout",
     "output_type": "stream",
     "text": [
      "Channels:\n",
      " - conda-forge\n",
      "Platform: linux-64\n",
      "Collecting package metadata (repodata.json): done\n",
      "Solving environment: done\n",
      "\n",
      "# All requested packages already installed.\n",
      "\n",
      "\n",
      "Note: you may need to restart the kernel to use updated packages.\n"
     ]
    }
   ],
   "source": [
    "import sys\n",
    "%conda install --yes --prefix {sys.prefix} gspread oauth2client"
   ]
  },
  {
   "cell_type": "code",
   "execution_count": 2,
   "metadata": {},
   "outputs": [],
   "source": [
    "import datetime\n",
    "import pandas as pd\n",
    "import numpy as np\n",
    "\n",
    "def months_between(d1, d2):\n",
    "    return d1.month - d2.month + 12*(d1.year - d2.year)\n",
    "\n",
    "# Calculate the weight based on linear decay\n",
    "def linear_decay_weight(date, current_date=datetime.datetime.now()):\n",
    "  age_in_months = months_between(current_date, date)\n",
    "  weight = max(1 - (age_in_months / 13), 0)\n",
    "  return weight\n",
    "\n",
    "# Weight function 1: Exponential decay\n",
    "def exponential_decay_weight(date, current_date=datetime.datetime.now()):\n",
    "  age_in_months = months_between(current_date, date)\n",
    "  weight = np.exp(-age_in_months / 13)\n",
    "  return weight\n",
    "\n",
    "# Weight function 2: Quadratic decay\n",
    "def quadratic_decay_weight(date, current_date=datetime.datetime.now()):\n",
    "  age_in_months = months_between(current_date, date)\n",
    "  weight = max(1 - (age_in_months / 13) ** 2, 0)\n",
    "  return weight"
   ]
  },
  {
   "cell_type": "markdown",
   "metadata": {},
   "source": [
    "## Daten laden und vorbereiten"
   ]
  },
  {
   "cell_type": "code",
   "execution_count": 39,
   "metadata": {},
   "outputs": [],
   "source": [
    "# Group transactions by month and sum up their amount\n",
    "df = pd.read_csv('transactions.csv')\n",
    "df['month'] = pd.to_datetime(df['transaction date']).dt.to_period('M').dt.to_timestamp('M')\n",
    "df['month'] = df['month'] - pd.offsets.MonthBegin(1)\n",
    "df_grouped = df.groupby(['month', 'category'])[['amount']].sum().reset_index()\n",
    "\n",
    "# Sort the dataframe by month in ascending order\n",
    "df_sorted = df_grouped.sort_values('month')"
   ]
  },
  {
   "cell_type": "markdown",
   "metadata": {},
   "source": [
    "## Untersuchen, welche Gewichtsfunktion am besten geeignet ist"
   ]
  },
  {
   "cell_type": "code",
   "execution_count": null,
   "metadata": {},
   "outputs": [],
   "source": [
    "# Generate subsets of the dataframe\n",
    "subsets = []\n",
    "months = df_sorted['month'].unique()\n",
    "for subsets_upper_limit in range(7, len(months)):\n",
    "  subset = df_sorted[df_sorted['month'] < months[subsets_upper_limit]]\n",
    "  solution = df_sorted[df_sorted['month'] == months[subsets_upper_limit]]\n",
    "  subsets.append([subset[:-1], solution])\n",
    "\n",
    "stats = {}\n",
    "for category in df['category'].unique():\n",
    "  stats[category] = {'month': [], 'average': [], 'linear_decay': [], 'exponential_decay': [], 'quadratic_decay': []}\n",
    "\n",
    "for [subset, solutions] in subsets:\n",
    "  current_date = subset['month'].max() + pd.DateOffset(months=1)\n",
    "  test_data = subset.copy()\n",
    "  test_data['linear_decay_weigths'] = test_data.apply(lambda row: linear_decay_weight(row['month'], current_date=current_date), axis=1)\n",
    "  test_data['exponential_decay_weigths'] = test_data.apply(lambda row: exponential_decay_weight(row['month'], current_date=current_date), axis=1)\n",
    "  test_data['quadratic_decay_weigths'] = test_data.apply(lambda row: quadratic_decay_weight(row['month'], current_date=current_date), axis=1)\n",
    "  for category in test_data['category'].unique():\n",
    "    solution = solutions[solutions['category'] == category]['amount']\n",
    "    if solution.empty:\n",
    "      continue\n",
    "    solution = solution.values[0]\n",
    "    category_test_data = test_data[test_data['category'] == category]\n",
    "    average = category_test_data['amount'].mean()\n",
    "    linear_decay = (category_test_data['amount'] * category_test_data['linear_decay_weigths']).sum() / category_test_data['linear_decay_weigths'].sum()\n",
    "    exponential_decay = (category_test_data['amount'] * category_test_data['exponential_decay_weigths']).sum() / category_test_data['exponential_decay_weigths'].sum()\n",
    "    quadratic_decay = (category_test_data['amount'] * category_test_data['quadratic_decay_weigths']).sum() / category_test_data['quadratic_decay_weigths'].sum()\n",
    "    stats[category]['month'].append(current_date)\n",
    "    stats[category]['average'].append(solution - average)\n",
    "    stats[category]['linear_decay'].append(solution - linear_decay)\n",
    "    stats[category]['exponential_decay'].append(solution - exponential_decay)\n",
    "    stats[category]['quadratic_decay'].append(solution - quadratic_decay)\n",
    "\n",
    "import matplotlib.pyplot as plt\n",
    "\n",
    "for category in stats.keys():\n",
    "  data = stats[category]\n",
    "  fig, axs = plt.subplots(2, 2, figsize=(10, 8), sharey=True)\n",
    "  for (variant, (axis_x, axis_y)) in zip(['average', 'linear_decay', 'exponential_decay', 'quadratic_decay'], [[0,0], [0,1], [1,0], [1,1]]):\n",
    "    if len(data[variant]) == 0:\n",
    "      continue\n",
    "    print(data[variant])\n",
    "    avg = np.median(data[variant])\n",
    "    p25 = np.percentile(data[variant], 25)\n",
    "    p75 = np.percentile(data[variant], 75)\n",
    "\n",
    "    axs[axis_x, axis_y].hist(data[variant], color='green', ec='black', bins=25)\n",
    "    axs[axis_x, axis_y].set_title(f'{variant}, P25: {p25:.2f}, Median: {avg:.2f}, P75: {p75:.2f}')\n",
    "  fig.suptitle(category)\n",
    "  plt.tight_layout()\n",
    "  plt.show()"
   ]
  },
  {
   "cell_type": "code",
   "execution_count": 40,
   "metadata": {},
   "outputs": [],
   "source": [
    "current_date = datetime.datetime.now()\n",
    "df_sorted['linear_decay_weigths'] = df_sorted.apply(lambda row: linear_decay_weight(row['month'], current_date=current_date), axis=1)\n",
    "category_stats = [[\"category\", \"average\", \"linear_decay\"]]\n",
    "for category in df_sorted['category'].unique():\n",
    "  category_data = df_sorted[df_sorted['category'] == category]\n",
    "  if category_data['linear_decay_weigths'].sum() == 0:\n",
    "    linear_decay = np.float32(0)\n",
    "  else:\n",
    "    linear_decay = (category_data['amount'] * category_data['linear_decay_weigths']).sum() / category_data['linear_decay_weigths'].sum()\n",
    "  average = category_data['amount'].mean()\n",
    "  category_stats.append([category, average.item(), linear_decay.item()])"
   ]
  },
  {
   "cell_type": "code",
   "execution_count": 41,
   "metadata": {},
   "outputs": [
    {
     "name": "stdout",
     "output_type": "stream",
     "text": [
      "[['category', 'average', 'linear_decay'], ['Benzin', -1603.2501785714287, -1765.3158241758242], ['Parken unterwegs', -296.01759259259256, -379.34487804878046], ['undefined', 66784.71327272727, 33801.32758241759], ['non-food Verbrauchsgegenst√§nde', -786.2229166666666, -1372.110641025641], ['Urlaub: Unterk√ºnfte', -8233.736551724138, -19064.330652173918], ['Urlaub: Autokosten (ohne Sprit)', -3115.245714285714, -19350.611249999994], ['Tierarzt & Medikamente (#commonspar)', -1540.6237037037038, -1693.5768571428573], ['Starting Balances', 74778.74187499999, 871794.2600000001], ['Rent', -7864.2, 0.0], ['Parken daheim [426/m]', -403.52272727272725, -436.8], ['Medikamente', -392.09820512820517, -481.73878787878795], ['Project 4 Walls', -506.70799999999997, 0.0], ['Income', 95178.9314814815, 98567.54153846153], ['Ausw√§rts Essen', -1750.3630769230767, -1840.9552564102567], ['Kaffe oder Fika', -479.59959183673465, -763.7546153846155], ['Dog Walker', -2410.0, 0.0], ['Electric', -391.25, 0.0], ['Banking Fees', -133.47416666666666, -248.19192307692308], ['Food & Treats & Equipment', -903.3507142857142, -1316.0483823529412], ['Groceries', -7212.108363636364, -9261.530659340659], ['Haushaltsgegenst√§nde', -2948.3123529411764, -1393.8382258064514], ['Fahrrad Ersatzteile & Werkstatt', -526.583, 0.0], ['Tr√§nselskatt', -112.57844444444444, -159.20000000000002], ['Systembolaget', -527.5988461538461, -976.8491176470591], ['Service / Reperaturen / Ersatzteile (1500/m)', -7390.330322580644, -9870.055675675676], ['Hausversicherung [345/mo]', -151.75510204081633, -325.5384615384615], ['Autoversicherung [397/m]', -350.89099999999996, -353.20241379310346], ['Geschenke', 4079.7535555555564, 9669.548484848483], ['Snack Unterwegs', -283.8262790697675, -336.346282051282], ['Public Transport', -307.746, -289.0671875], ['Gemeinsames Equipment', -1624.9202857142857, -1568.1232894736843], ['Steuer & Geb√ºhren  (430/y)', -574.3328571428572, -157.51428571428573], ['Arbeits-Lunch', -288.33862068965516, -349.85555555555555], ['Hundeversicherung [2.900/y]', -2171.2, -2900.0], ['neues Smartphone', -1382.0066666666667, 0.0], ['Hochzeit', -6494.961764705883, -11958.333333333334], ['Flickr [76/m]', -424.43199999999996, 0.0], ['Merx Storage 755 /m', -904.1666666666666, 0.0], ['Arztbesuche', -498.5973333333333, -769.7959183673469], ['Fun & Entertainment', -492.82000000000005, -887.2934848484849], ['Urlaub - nicht Deutschlandreisen', -1289.76, -2159.7190476190476], ['Reimbursment Generell', -420.74095238095236, -592.6221978021978], ['YNAB [1000/y]', -830.745, 0.0], ['Spotify [94.5/m]', -63.99658536585366, -35.05120879120879], ['Sveriges Naturskyddsf√∂rening [106/m]', -104.8, -106.0], ['Zahnarzt [340/m]', -390.0, -426.1428571428571], ['Wohnung Sonstiges', -2215.6200000000003, 0.0], ['Klamotten Hannah', -814.3604, -1612.875], ['Dagens Nyheter [39/m]', -58.42424242424242, -58.99999999999999], ['BRF [4650/m]', -4328.354838709677, -3768.0000000000005], ['Gewerkschaften / A-Kassa [1440/qt + 145/m + 120/m]', -625.25, -640.8333333333334], ['Greenpeace [200/m]', -200.0, -200.0], ['Klamotten Tobi', -950.6729166666668, -653.9429268292685], ['Rennovierungsinvestitionen', -9079.298571428571, -11391.40625], ['Tobi Hobbys', -873.1788461538462, -563.1314285714286], ['Urlaub: Transportkosten (au√üer Auto)', -2539.6215384615384, -2655.605660377359], ['Amortisierung Danske [3000/m]', -39346.10151515151, -35800.69943661972], ['Audible [50/m]', -65.5, -109.0], ['Fello [190/m]', -248.22487179487175, -426.4611538461538], ['Dienstleistungen one-offs', -1343.3765789473684, -1450.4328205128204], ['Medium Bucket Savings [1100/m]', -12813.846111111114, -8009.928421052636], ['Plan International [250/m]', -246.57894736842104, -250.00000000000003], ['Sabbatical \"80/20\" on Lysa [6908/m]', -6217.2, 0.0], ['haus Sparen [6000/m]', -73997.07692307692, -235091.5], ['Taschengeld [1000/m]', -2447.3684210526317, -1000.0000000000001], ['Boplats [400/y]', -200.0, -199.99999999999997], ['Hj√§lp Hemma [799/m]', -1006.5454545454545, -939.2142857142858], ['Hannahs Hobbys', -512.0607142857142, -200.735], ['Studentk√•r [380/y]', -190.0, -190.0], ['Zinsen Danske Bank [1.600/m]', -2177.589310344828, -2753.122708333334], ['Internet [271/m]', -308.6666666666667, -269.75324675324674], ['Cardiv [227/m]', -161.35499999999996, -233.17945054945056], ['\"Stuff\"', -1265.575, 0.0], ['Friseur, Massagen, Dienstleistungen am K√∂rper', -372.37882352941176, -352.4396875], ['Emergency Bucket & Kurzzeit Sparen', -33237.669285714284, -79674.77260869565], ['High Risk Savings (10%)', -5519.306000000001, -5652.3677777777775], ['Headspace [620/y]', -619.79, 0.0], ['Spende (einmalig)', -434.0192307692308, -375.74909090909097], ['Wien Reise Hannah', -424.0, 0.0], ['Dt. Meteorol. Gesellschaft [745/y]', -412.31, -174.62], ['Storage [76/m]', -89.10000000000001, 0.0], ['Datenight', -663.5849999999999, -771.3797560975609], ['Reimbursment: M√§dels Kungsleden', 0.0, 0.0], ['Reise Jehrstedt Rennoviereungshilfe', -276.65333333333336, 0.0], ['Shopify Reimbursments', -109.37142857142855, 260.18666666666667], ['Mac Book Air M2', -10856.79, 0.0], ['Email [105/m]', -116.14000000000001, 0.0], ['London Reise Hannah', -59.550000000000004, 0.0], ['M√§nniskor I K√•lltorp [25/m]', -150.0, 0.0], ['Babykrams', -3455.098125, -1808.5091304347827], ['Climbecokurs H', 34.999999999999886, 0.0], ['Einmalige Versicherungen', -813.0666666666666, -569.3636363636364], ['Silvester', -1703.8049999999998, 0.0], ['DNT', -812.38, 0.0], ['Getr√§nke Ausw√§rts (alk/non-alk)', -336.42928571428575, -276.86863636363637], ['Kind Sparen [1257/m]', -2054.5, -1311.2179487179487], ['iCloud [12/m]', -14.924444444444443, -23.843934426229506], ['Hygglo', 101.65666666666665, -19.795774647887338], ['Klamotten Anton', -316.61, -406.76411764705887], ['Zinsen / FX Rates', 6152.011538461538, 8595.594516129033], ['Kurse, Weiterbildung, B√ºcher', -1271.9333333333334, -748.8666666666667], ['Smart Home / IoT', -940.165, -792.4496774193548], ['M√∂bel & Einrichtung', -3407.1275, -2336.3514492753625], ['AirBnB Investment', -4323.59, -3699.895161290323], ['AirBnB Kosten', -1745.78, -1598.62], ['Fastighetsskatt', -433.0, -432.99999999999994], ['Residual Acounts', 120833.67, 120833.67], ['Minireningsverk [525/m]', -1526.0, -1380.1555555555553], ['Wartung', -886.0, -885.9999999999999], ['Zinsen Imhofs [1999 EUR/y]', -3382.04, -3357.026046511628], ['Strom', -1714.888888888889, -1413.6543209876545], ['Amortisierung:  Imhofs [6300/m]', -10080.0, -10695.348837209303], ['Amortisierung Sturms [2250/m]', -3600.0, -3767.4418604651164], ['Hj√§lmvik Rennovierungsr√ºcklagen [3416/m]', -30978.75, -22741.25806451613], ['Abfall / Sotning', -735.0, -724.5555555555557], ['AirBnB', 4100.44, 4803.368518518519], ['Sauna', -7000.0, -6999.999999999999], ['Werkzeug', -11189.366666666669, -11006.079393939395], ['Deutschlandreisen', -1539.0, -1539.0], ['Elektrofahrrad & H√§nger', -40990.0, -40990.0], ['LF Olycksfallf√∂rs√§kring [220,5]', -296.0, -293.04], ['Blocket & Co', 1500.0, 1500.0]]\n"
     ]
    },
    {
     "name": "stderr",
     "output_type": "stream",
     "text": [
      "/tmp/ipykernel_17424/4215209258.py:12: DeprecationWarning: [Deprecated][in version 6.0.0]: Method signature's arguments 'range_name' and 'values' will change their order. We recommend using named arguments for minimal impact. In addition, the argument 'values' will be mandatory of type: 'List[List]'. (ex) Worksheet.update(values = [[]], range_name=) \n",
      "  worksheet.update(category_stats)\n"
     ]
    },
    {
     "name": "stdout",
     "output_type": "stream",
     "text": [
      "Statistics posted to Google Sheets successfully!\n"
     ]
    }
   ],
   "source": [
    "import gspread\n",
    "from oauth2client.service_account import ServiceAccountCredentials\n",
    "\n",
    "# Set up credentials\n",
    "scope = ['https://spreadsheets.google.com/feeds', 'https://www.googleapis.com/auth/drive']\n",
    "credentials = ServiceAccountCredentials.from_json_keyfile_name('credentials.json', scope)\n",
    "client = gspread.authorize(credentials)\n",
    "\n",
    "sheet = client.open('Finanzplanung / Bospar')\n",
    "worksheet = sheet.worksheet(\"Category Stats\")\n",
    "print(category_stats)\n",
    "worksheet.update(category_stats)\n",
    "print(\"Statistics posted to Google Sheets successfully!\")"
   ]
  },
  {
   "cell_type": "code",
   "execution_count": null,
   "metadata": {},
   "outputs": [],
   "source": []
  },
  {
   "cell_type": "code",
   "execution_count": null,
   "metadata": {},
   "outputs": [],
   "source": []
  }
 ],
 "metadata": {
  "kernelspec": {
   "display_name": "Python 3 (ipykernel)",
   "language": "python",
   "name": "python3"
  }
 },
 "nbformat": 4,
 "nbformat_minor": 2
}
